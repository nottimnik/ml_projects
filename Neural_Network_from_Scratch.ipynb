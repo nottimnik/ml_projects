{
  "nbformat": 4,
  "nbformat_minor": 0,
  "metadata": {
    "colab": {
      "provenance": []
    },
    "kernelspec": {
      "name": "python3",
      "display_name": "Python 3"
    },
    "language_info": {
      "name": "python"
    }
  },
  "cells": [
    {
      "cell_type": "code",
      "execution_count": 30,
      "metadata": {
        "colab": {
          "base_uri": "https://localhost:8080/"
        },
        "id": "MOwA6yaOUp68",
        "outputId": "fd94968f-d91b-4c59-c1bf-0fb7a14196de"
      },
      "outputs": [
        {
          "output_type": "stream",
          "name": "stdout",
          "text": [
            "Requirement already satisfied: numpy in /usr/local/lib/python3.10/dist-packages (1.23.5)\n"
          ]
        }
      ],
      "source": [
        "!pip install numpy"
      ]
    },
    {
      "cell_type": "markdown",
      "source": [
        "We will take a neural network that takes two inputs, has one hidden layer with two nodes, and an output layer with one node.\n",
        "<img src=\"http://cocl.us/neural_network_example\" alt=\"Neural Network Example\" width=\"600px\">\n"
      ],
      "metadata": {
        "id": "LqcmwQUrU-rC"
      }
    },
    {
      "cell_type": "markdown",
      "source": [
        "We have 2 inputs, 6 weights, and 3 biases. Let's start by randomly initializing the weights and the biases in the netowrk."
      ],
      "metadata": {
        "id": "IUmp3LsIVe0G"
      }
    },
    {
      "cell_type": "code",
      "source": [
        "import numpy as np\n",
        "\n",
        "weights = np.around(np.random.uniform(size=6), decimals=2)\n",
        "biases = np.around(np.random.uniform(size=3), decimals=2)"
      ],
      "metadata": {
        "id": "V9tUmEiwU4kz"
      },
      "execution_count": 31,
      "outputs": []
    },
    {
      "cell_type": "code",
      "source": [
        "print(weights)\n",
        "print(biases)"
      ],
      "metadata": {
        "colab": {
          "base_uri": "https://localhost:8080/"
        },
        "id": "Ha_qqV5jV8YC",
        "outputId": "7c52fd6b-970f-4de0-ed90-d71000d04646"
      },
      "execution_count": 32,
      "outputs": [
        {
          "output_type": "stream",
          "name": "stdout",
          "text": [
            "[0.47 0.04 0.08 0.73 0.64 0.03]\n",
            "[0.3  0.22 0.06]\n"
          ]
        }
      ]
    },
    {
      "cell_type": "markdown",
      "source": [
        "Now that we have the weights and biases for the network, let's compute the output for a given input x1 and x2."
      ],
      "metadata": {
        "id": "QPEwfheoWPL3"
      }
    },
    {
      "cell_type": "code",
      "source": [
        "x1 = 0.5\n",
        "x2 = 0.85"
      ],
      "metadata": {
        "id": "T4f6B8ZdWHdq"
      },
      "execution_count": 33,
      "outputs": []
    },
    {
      "cell_type": "markdown",
      "source": [
        "Let's compute z11 and z12, the weighted sum of the inputs."
      ],
      "metadata": {
        "id": "Ciyogg3RWV-r"
      }
    },
    {
      "cell_type": "code",
      "source": [
        "z11 = x1 * weights[0] + x2 * weights[1] + biases[0]\n",
        "z12 = x1 * weights[2] + x2 * weights[3] + biases[1]\n",
        "print(\"z11 =\",z11,\"and z12 =\",z12)"
      ],
      "metadata": {
        "colab": {
          "base_uri": "https://localhost:8080/"
        },
        "id": "Eokb5RWfWajK",
        "outputId": "f4433681-831d-4584-e365-898eeca1eb0c"
      },
      "execution_count": 34,
      "outputs": [
        {
          "output_type": "stream",
          "name": "stdout",
          "text": [
            "z11 = 0.569 and z12 = 0.8805\n"
          ]
        }
      ]
    },
    {
      "cell_type": "markdown",
      "source": [
        "Next, let's assume we use the sigmoid function as the activation function and compute the activation of the nodes a11 and a12, from the hidden layer."
      ],
      "metadata": {
        "id": "lq7sKjv6XY9k"
      }
    },
    {
      "cell_type": "code",
      "source": [
        "a11 = 1.0 / (1.0 + np.exp(-z11))\n",
        "a12 = 1.0 / (1.0 + np.exp(-z12))\n",
        "\n",
        "print(\"The activation function of the first node in the hidden layer is\",np.around(a11, decimals=4),\"and the second is\",np.around(a12, decimals=4))"
      ],
      "metadata": {
        "colab": {
          "base_uri": "https://localhost:8080/"
        },
        "id": "ad2EbER-Xkrg",
        "outputId": "bbede2f1-9074-40d6-8a70-44e04fc88957"
      },
      "execution_count": 35,
      "outputs": [
        {
          "output_type": "stream",
          "name": "stdout",
          "text": [
            "The activation function of the first node in the hidden layer is 0.6385 and the second is 0.7069\n"
          ]
        }
      ]
    },
    {
      "cell_type": "markdown",
      "source": [
        "These activations will server as inputs to the output layer. Let's compute the weighted sum of these inputes to the node in the output layer, z2."
      ],
      "metadata": {
        "id": "uoXCkLZKY6fM"
      }
    },
    {
      "cell_type": "code",
      "source": [
        "z2 = a11 * weights[4] + a12 * weights[5] + biases[2]\n",
        "print(\"The weighted sum of the inputs at the node in the output layer is\",np.around(z2, decimals=4))"
      ],
      "metadata": {
        "colab": {
          "base_uri": "https://localhost:8080/"
        },
        "id": "kldcIOBzZJE_",
        "outputId": "a977e255-de17-4220-b88b-1789b1304b31"
      },
      "execution_count": 36,
      "outputs": [
        {
          "output_type": "stream",
          "name": "stdout",
          "text": [
            "The weighted sum of the inputs at the node in the output layer is 0.4899\n"
          ]
        }
      ]
    },
    {
      "cell_type": "markdown",
      "source": [
        "Finally, let's compute the output of the network as the activation of the node in the output layer, a2."
      ],
      "metadata": {
        "id": "dDIzfVs7Z5iO"
      }
    },
    {
      "cell_type": "code",
      "source": [
        "a2 = 1.0 / (1.0 + np.exp(-z2))\n",
        "\n",
        "print(\"The output of the network is\",a2)"
      ],
      "metadata": {
        "colab": {
          "base_uri": "https://localhost:8080/"
        },
        "id": "hO-hDWq7Z5E7",
        "outputId": "d6e3d694-e632-4994-c47d-df5a48dd801d"
      },
      "execution_count": 37,
      "outputs": [
        {
          "output_type": "stream",
          "name": "stdout",
          "text": [
            "The output of the network is 0.6200754560836037\n"
          ]
        }
      ]
    },
    {
      "cell_type": "markdown",
      "source": [
        "Obviously, neural networks for real problems are composed of many hidden layers and many more nodes in each layer. So, we can't continue making predictions using this very inefficient approach of computing the weighted sum at each node and the activation of each node manually.\n",
        "\n",
        "In order to code an automatic way of making predictions, let's generalize our network. A general network would take $n$ inputs, would have many hidden layers, each hidden layer having $m$ nodes, and would have an output layer. Although the network is showing one hidden layer, but we will code the network to have many hidden layers. Similarly, although the network shows an output layer with one node, we will code the network to have more than one node in the output layer.\n",
        "\n",
        "<img src=\"http://cocl.us/general_neural_network\" alt=\"Neural Network General\" width=\"600px\">\n"
      ],
      "metadata": {
        "id": "YPJV16jEan0F"
      }
    },
    {
      "cell_type": "markdown",
      "source": [
        "# Initialize a Network\n",
        "Let's start by formally defining the structure of the network."
      ],
      "metadata": {
        "id": "Iase8gn1bSta"
      }
    },
    {
      "cell_type": "code",
      "source": [
        "n = 2 # number of inputes\n",
        "num_hidden_layer = 2 # number of hidden layers\n",
        "m = [2, 2] # number of nodes in each hidden layer\n",
        "num_nodes_output = 1 # number of nodes in the output layer"
      ],
      "metadata": {
        "id": "uOqLduCabP9C"
      },
      "execution_count": 38,
      "outputs": []
    },
    {
      "cell_type": "markdown",
      "source": [
        "Now that we defined the structure of the network, let's go ahead and inititailize the weights and the biases in the network to random numbers. In order to be able to initialize the weights and the biases to random numbers.\n"
      ],
      "metadata": {
        "id": "usLcalltdBS-"
      }
    },
    {
      "cell_type": "code",
      "source": [
        "import numpy as np\n",
        "\n",
        "num_nodes_previous = n # number of nodes in the previous layer\n",
        "\n",
        "network = {} # initialize network as an empty dictionary\n",
        "\n",
        "for layer in range(num_hidden_layer + 1):\n",
        "\n",
        "  #determine the name of the layer\n",
        "  if layer == num_hidden_layer:\n",
        "    layer_name = 'output'\n",
        "    num_nodes = num_nodes_output\n",
        "  else:\n",
        "    layer_name = 'layer_'+str(layer+1)\n",
        "    num_nodes = m[layer]\n",
        "\n",
        "  # initialize weights and biases associated with each node in the current layer\n",
        "  network[layer_name] = {}\n",
        "  for node in range(num_nodes):\n",
        "    node_name = 'node_1'+str(node+1)\n",
        "    network[layer_name][node_name] = {\n",
        "        'weights': np.around(np.random.uniform(size=num_nodes_previous), decimals=2),\n",
        "        'bias': np.around(np.random.uniform(size=1), decimals=2),\n",
        "    }\n",
        "\n",
        "  num_nodes_previous = num_nodes\n",
        "\n",
        "print(network)"
      ],
      "metadata": {
        "colab": {
          "base_uri": "https://localhost:8080/"
        },
        "id": "x7iHSt12dEX5",
        "outputId": "73184e0e-cdcf-4738-fa84-356709ebab46"
      },
      "execution_count": 39,
      "outputs": [
        {
          "output_type": "stream",
          "name": "stdout",
          "text": [
            "{'layer_1': {'node_11': {'weights': array([0.52, 0.42]), 'bias': array([0.05])}, 'node_12': {'weights': array([0.57, 0.8 ]), 'bias': array([0.11])}}, 'layer_2': {'node_11': {'weights': array([0.28, 0.64]), 'bias': array([0.49])}, 'node_12': {'weights': array([0.51, 0.46]), 'bias': array([0.89])}}, 'output': {'node_11': {'weights': array([0.61, 0.6 ]), 'bias': array([0.44])}}}\n"
          ]
        }
      ]
    },
    {
      "cell_type": "markdown",
      "source": [
        "Now let's put the above code in a function so that we are able to repetitively execute all this code whenever we want to construct a neural network."
      ],
      "metadata": {
        "id": "zNdvrRthf6C-"
      }
    },
    {
      "cell_type": "code",
      "source": [
        "def initialize_network(num_inputs, num_hidden_layers, num_nodes_hidden, num_nodes_output):\n",
        "\n",
        "    num_nodes_previous = num_inputs # number of nodes in the previous layer\n",
        "\n",
        "    network = {}\n",
        "\n",
        "    # loop through each layer and randomly initialize the weights and biases associated with each layer\n",
        "    for layer in range(num_hidden_layers + 1):\n",
        "\n",
        "        if layer == num_hidden_layers:\n",
        "            layer_name = 'output' # name last layer in the network output\n",
        "            num_nodes = num_nodes_output\n",
        "        else:\n",
        "            layer_name = 'layer_{}'.format(layer + 1) # otherwise give the layer a number\n",
        "            num_nodes = num_nodes_hidden[layer]\n",
        "\n",
        "        # initialize weights and bias for each node\n",
        "        network[layer_name] = {}\n",
        "        for node in range(num_nodes):\n",
        "            node_name = 'node_{}'.format(node+1)\n",
        "            network[layer_name][node_name] = {\n",
        "                'weights': np.around(np.random.uniform(size=num_nodes_previous), decimals=2),\n",
        "                'bias': np.around(np.random.uniform(size=1), decimals=2),\n",
        "            }\n",
        "\n",
        "        num_nodes_previous = num_nodes\n",
        "\n",
        "    return network # return the network"
      ],
      "metadata": {
        "id": "bL4THyolgEF_"
      },
      "execution_count": 40,
      "outputs": []
    },
    {
      "cell_type": "markdown",
      "source": [
        "Let's create a network that takes 5 inputes, has three hidden layers, had 3 nodes in the first layer, 2 nodes in the second layer, and 3 nodes in the third layer and has 1 node in the output layer."
      ],
      "metadata": {
        "id": "7K9gzeqrgpgF"
      }
    },
    {
      "cell_type": "code",
      "source": [
        "small_network = initialize_network(5, 3, [3, 2, 3], 1)"
      ],
      "metadata": {
        "id": "Tf7axwNxgnRQ"
      },
      "execution_count": 41,
      "outputs": []
    },
    {
      "cell_type": "markdown",
      "source": [
        "## Compute Weighted Sum at Each Node\n",
        "The weighted sum at each node is computed as the dot product of the inputs and the weights plus the bias. So let's create a function called *compute_weighted_sum* that does just that.\n",
        "\n"
      ],
      "metadata": {
        "id": "gcgsiyDyc_wb"
      }
    },
    {
      "cell_type": "code",
      "source": [
        "def compute_weighted_sum(inputs, weights, bias):\n",
        "    return np.sum(inputs * weights) + bias"
      ],
      "metadata": {
        "id": "sBUk3v5bdc8_"
      },
      "execution_count": 42,
      "outputs": []
    },
    {
      "cell_type": "markdown",
      "source": [
        "Let's generate 5 inputs that we can feed to the **small_network**"
      ],
      "metadata": {
        "id": "RSitzklFeh7N"
      }
    },
    {
      "cell_type": "code",
      "source": [
        "from random import seed\n",
        "import numpy as np\n",
        "\n",
        "np.random.seed(12)\n",
        "inputs = np.around(np.random.uniform(size=5), decimals=2)\n",
        "\n",
        "print('The inputs to the network are {}'.format(inputs))"
      ],
      "metadata": {
        "colab": {
          "base_uri": "https://localhost:8080/"
        },
        "id": "iJVx67_vepOd",
        "outputId": "b12d86e6-03be-4ff1-9aad-9176f35adf9a"
      },
      "execution_count": 43,
      "outputs": [
        {
          "output_type": "stream",
          "name": "stdout",
          "text": [
            "The inputs to the network are [0.15 0.74 0.26 0.53 0.01]\n"
          ]
        }
      ]
    },
    {
      "cell_type": "markdown",
      "source": [
        "Compute the weighted sum at the first node in the first hidden layer."
      ],
      "metadata": {
        "id": "4XAInMA2fMow"
      }
    },
    {
      "cell_type": "code",
      "source": [
        "weighted_sum = compute_weighted_sum(inputs, small_network['layer_1']['node_1']['weights'], small_network['layer_1']['node_1']['bias'])"
      ],
      "metadata": {
        "id": "I9VFNbLIfa9l"
      },
      "execution_count": 44,
      "outputs": []
    },
    {
      "cell_type": "markdown",
      "source": [
        "## Compute Node Activation\n",
        "Recall that the output of each node is simply a non-linear tranformation of the weighted sum. We use activation functions for this mapping. Let's use the sigmoid function as the activation function here. So let's define a function that takes a weighted sum as input and returns the non-linear transformation of the input using the sigmoid function.\n"
      ],
      "metadata": {
        "id": "IjouApO5hPaS"
      }
    },
    {
      "cell_type": "code",
      "source": [
        "def node_activation(weighted_sum):\n",
        "    return 1.0 / (1.0 + np.exp(-1 * weighted_sum))"
      ],
      "metadata": {
        "id": "4DNpqlDihhVE"
      },
      "execution_count": 45,
      "outputs": []
    },
    {
      "cell_type": "markdown",
      "source": [
        "#### Use the *node_activation* function to compute the output of the first node in the first hidden layer.\n"
      ],
      "metadata": {
        "id": "OFjO4_O6hxEE"
      }
    },
    {
      "cell_type": "code",
      "source": [
        "node_output = node_activation(weighted_sum)\n",
        "print('The output of the first node in the hidden layer is {}'.format(np.around(node_output[0], decimals=4)))\n"
      ],
      "metadata": {
        "colab": {
          "base_uri": "https://localhost:8080/"
        },
        "id": "raWrDvjQhyfg",
        "outputId": "0ae854d8-0852-4f82-b090-5a340b529bed"
      },
      "execution_count": 46,
      "outputs": [
        {
          "output_type": "stream",
          "name": "stdout",
          "text": [
            "The output of the first node in the hidden layer is 0.8681\n"
          ]
        }
      ]
    },
    {
      "cell_type": "markdown",
      "source": [
        "## Forward Propagation\n",
        "The final piece of building a neural network that can perform predictions is to put everything together. So let's create a function that applies the *compute_weighted_sum* and *node_activation* functions to each node in the network and propagates the data all the way to the output layer and outputs a prediction for each node in the output layer.\n",
        "\n",
        "The way we are going to accomplish this is through the following procedure:\n",
        "\n",
        "1. Start with the input layer as the input to the first hidden layer.\n",
        "2. Compute the weighted sum at the nodes of the current layer.\n",
        "3. Compute the output of the nodes of the current layer.\n",
        "4. Set the output of the current layer to be the input to the next layer.\n",
        "5. Move to the next layer in the network.\n",
        "5. Repeat steps 2 - 4 until we compute the output of the output layer.\n"
      ],
      "metadata": {
        "id": "hC_sUX4diGi5"
      }
    },
    {
      "cell_type": "code",
      "source": [
        "def forward_propagate(network, inputs):\n",
        "\n",
        "    layer_inputs = list(inputs) # start with the input layer as the input to the first hidden layer\n",
        "\n",
        "    for layer in network:\n",
        "\n",
        "        layer_data = network[layer]\n",
        "\n",
        "        layer_outputs = []\n",
        "        for layer_node in layer_data:\n",
        "\n",
        "            node_data = layer_data[layer_node]\n",
        "\n",
        "            # compute the weighted sum and the output of each node at the same time\n",
        "            node_output = node_activation(compute_weighted_sum(layer_inputs, node_data['weights'], node_data['bias']))\n",
        "            layer_outputs.append(np.around(node_output[0], decimals=4))\n",
        "\n",
        "        if layer != 'output':\n",
        "            print('The outputs of the nodes in hidden layer number {} is {}'.format(layer.split('_')[1], layer_outputs))\n",
        "\n",
        "        layer_inputs = layer_outputs # set the output of this layer to be the input to next layer\n",
        "\n",
        "    network_predictions = layer_outputs\n",
        "    return network_predictions"
      ],
      "metadata": {
        "id": "fAfEi8q4iLH_"
      },
      "execution_count": 47,
      "outputs": []
    },
    {
      "cell_type": "code",
      "source": [
        "pred = forward_propagate(small_network, inputs)\n",
        "print('The predicted value by the network for the given input is {}'.format(np.around(pred[0], decimals=4)))\n"
      ],
      "metadata": {
        "colab": {
          "base_uri": "https://localhost:8080/"
        },
        "id": "GbP_C7PUiOtI",
        "outputId": "26bc7f8c-9b7b-4687-9d96-699db10d5977"
      },
      "execution_count": 48,
      "outputs": [
        {
          "output_type": "stream",
          "name": "stdout",
          "text": [
            "The outputs of the nodes in hidden layer number 1 is [0.8681, 0.8295, 0.803]\n",
            "The outputs of the nodes in hidden layer number 2 is [0.9425, 0.9039]\n",
            "The outputs of the nodes in hidden layer number 3 is [0.7267, 0.8477, 0.7605]\n",
            "The predicted value by the network for the given input is 0.7961\n"
          ]
        }
      ]
    },
    {
      "cell_type": "markdown",
      "source": [
        "So now we are done, we built the code to define a neural network. We can specify the number of inputs that a neural network can take, the number of hidden layers as well as the number of nodes in each hidden layer, and the number of nodes in the output layer."
      ],
      "metadata": {
        "id": "YuYs64igibrQ"
      }
    },
    {
      "cell_type": "markdown",
      "source": [
        "We first use the *initialize_network* to create our neural network and define its weights and biases.\n"
      ],
      "metadata": {
        "id": "vXezVpvDiuPt"
      }
    },
    {
      "cell_type": "code",
      "source": [
        "my_network = initialize_network(5, 3, [2, 3, 2], 3)"
      ],
      "metadata": {
        "id": "JD1QDbrxiusG"
      },
      "execution_count": 49,
      "outputs": []
    },
    {
      "cell_type": "markdown",
      "source": [
        "Then, for a given input,\n"
      ],
      "metadata": {
        "id": "6LRdRqiXi8R7"
      }
    },
    {
      "cell_type": "code",
      "source": [
        "inputs = np.around(np.random.uniform(size=5), decimals=2)"
      ],
      "metadata": {
        "id": "zgVxa7-Yi8v8"
      },
      "execution_count": 50,
      "outputs": []
    },
    {
      "cell_type": "markdown",
      "source": [
        "we compute the network predictions.\n"
      ],
      "metadata": {
        "id": "if7C39Xci-xH"
      }
    },
    {
      "cell_type": "code",
      "source": [
        "predictions = forward_propagate(my_network, inputs)\n",
        "print('The predicted values by the network for the given input are {}'.format(predictions))"
      ],
      "metadata": {
        "colab": {
          "base_uri": "https://localhost:8080/"
        },
        "id": "15aRXjWCi_Jc",
        "outputId": "512e5f2d-fdba-464d-b728-329b7914a821"
      },
      "execution_count": 51,
      "outputs": [
        {
          "output_type": "stream",
          "name": "stdout",
          "text": [
            "The outputs of the nodes in hidden layer number 1 is [0.8857, 0.8889]\n",
            "The outputs of the nodes in hidden layer number 2 is [0.7822, 0.6965, 0.7411]\n",
            "The outputs of the nodes in hidden layer number 3 is [0.868, 0.881]\n",
            "The predicted values by the network for the given input are [0.8952, 0.8222, 0.8035]\n"
          ]
        }
      ]
    }
  ]
}